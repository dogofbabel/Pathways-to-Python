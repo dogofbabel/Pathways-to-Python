{
  "nbformat": 4,
  "nbformat_minor": 0,
  "metadata": {
    "colab": {
      "name": "python 练习.ipynb",
      "provenance": [],
      "collapsed_sections": [],
      "include_colab_link": true
    },
    "kernelspec": {
      "name": "python3",
      "display_name": "Python 3"
    }
  },
  "cells": [
    {
      "cell_type": "markdown",
      "metadata": {
        "id": "view-in-github",
        "colab_type": "text"
      },
      "source": [
        "<a href=\"https://colab.research.google.com/github/dogofbabel/Pathways-to-Python/blob/master/python_%E7%BB%83%E4%B9%A0.ipynb\" target=\"_parent\"><img src=\"https://colab.research.google.com/assets/colab-badge.svg\" alt=\"Open In Colab\"/></a>"
      ]
    },
    {
      "cell_type": "code",
      "metadata": {
        "id": "dJjdizch-gPm",
        "colab_type": "code",
        "outputId": "db766d5f-b26a-401b-9a84-c403c8c97b36",
        "colab": {
          "base_uri": "https://localhost:8080/",
          "height": 107
        }
      },
      "source": [
        "a = 100\n",
        "b = 12.345\n",
        "c = 1 + 5j\n",
        "d = 'hello, world'\n",
        "e = True\n",
        "print(type(a))\n",
        "print(type(b))\n",
        "print(type(c))\n",
        "print(type(d))\n",
        "print(type(e))"
      ],
      "execution_count": 0,
      "outputs": [
        {
          "output_type": "stream",
          "text": [
            "<class 'int'>\n",
            "<class 'float'>\n",
            "<class 'complex'>\n",
            "<class 'str'>\n",
            "<class 'bool'>\n"
          ],
          "name": "stdout"
        }
      ]
    },
    {
      "cell_type": "code",
      "metadata": {
        "id": "aPoZudKUGcCR",
        "colab_type": "code",
        "outputId": "2b5b915d-0212-4a78-f52f-2bf4fcc623bb",
        "colab": {
          "base_uri": "https://localhost:8080/",
          "height": 161
        }
      },
      "source": [
        "a = 5\n",
        "b = 10\n",
        "c = 3\n",
        "d = 4\n",
        "e = 5\n",
        "a += b\n",
        "a -= c\n",
        "a *= d\n",
        "a /= e\n",
        "print(\"a = \", a)\n",
        "\n",
        "flag1 = 3 > 2\n",
        "flag2 = 2 < 1\n",
        "flag3 = flag1 and flag2\n",
        "flag4 = flag1 or flag2\n",
        "flag5 = not flag1\n",
        "print(\"flag1 = \", flag1)\n",
        "print(\"flag2 = \", flag2)\n",
        "print(\"flag3 = \", flag3)\n",
        "print(\"flag4 = \", flag4)\n",
        "print(\"flag5 = \", flag5)\n",
        "print(flag1 is True)\n",
        "print(flag2 is not False)"
      ],
      "execution_count": 0,
      "outputs": [
        {
          "output_type": "stream",
          "text": [
            "a =  9.6\n",
            "flag1 =  True\n",
            "flag2 =  False\n",
            "flag3 =  False\n",
            "flag4 =  True\n",
            "flag5 =  False\n",
            "True\n",
            "False\n"
          ],
          "name": "stdout"
        }
      ]
    },
    {
      "cell_type": "code",
      "metadata": {
        "id": "yAZ_VUnqiwd8",
        "colab_type": "code",
        "outputId": "31d0f031-6421-469e-a9e8-15169f302c9a",
        "colab": {
          "base_uri": "https://localhost:8080/",
          "height": 251
        }
      },
      "source": [
        "print('''n = 123\n",
        "\n",
        "f = 456.798\n",
        "\n",
        "s1 = 'hello,world'\n",
        "\n",
        "s2 = 'hello,\\\\'Adam\\\\''\n",
        "\n",
        "s3 = r'hello,\"Bart\"'\n",
        "\n",
        "s4 = r\"'hello,\n",
        "\n",
        "Lisa!\"''')"
      ],
      "execution_count": 0,
      "outputs": [
        {
          "output_type": "stream",
          "text": [
            "n = 123\n",
            "\n",
            "f = 456.798\n",
            "\n",
            "s1 = 'hello,world'\n",
            "\n",
            "s2 = 'hello,\\'Adam\\''\n",
            "\n",
            "s3 = r'hello,\"Bart\"'\n",
            "\n",
            "s4 = r\"'hello,\n",
            "\n",
            "Lisa!\"\n"
          ],
          "name": "stdout"
        }
      ]
    },
    {
      "cell_type": "code",
      "metadata": {
        "id": "HhE4b4yTwMoz",
        "colab_type": "code",
        "colab": {}
      },
      "source": [
        "year = int(input('请输入年份: '))\n",
        "# 如果代码太长写成一行不便于阅读 可以使用\\或()折行\n",
        "is_leap = (year % 4 == 0 and year % 100 != 0 or\n",
        "           year % 400 == 0)\n",
        "print(is_leap)"
      ],
      "execution_count": 0,
      "outputs": []
    },
    {
      "cell_type": "code",
      "metadata": {
        "id": "mtQE9KPEwQul",
        "colab_type": "code",
        "colab": {}
      },
      "source": [
        "import math\n",
        "\n",
        "radius = float(input('请输入圆的半径: '))\n",
        "perimeter = 2 * math.pi * radius\n",
        "area = math.pi * radius * radius\n",
        "print('周长: %.2f' % perimeter)\n",
        "print('面积: %.2f' % area)"
      ],
      "execution_count": 0,
      "outputs": []
    },
    {
      "cell_type": "code",
      "metadata": {
        "id": "fVrTu6rRy7u7",
        "colab_type": "code",
        "colab": {}
      },
      "source": [
        "f = float(input('请输入华氏温度: '))\n",
        "c = (f - 32) / 1.8\n",
        "print('%.1f华氏度 = %.1f摄氏度' % (f, c))"
      ],
      "execution_count": 0,
      "outputs": []
    },
    {
      "cell_type": "code",
      "metadata": {
        "id": "kSd0K6oSjuLG",
        "colab_type": "code",
        "colab": {}
      },
      "source": [
        "x = float(input('x = '))\n",
        "if x > 1:\n",
        "    y = 3 * x - 5\n",
        "elif x >= -1:\n",
        "    y = x + 2\n",
        "else:\n",
        "    y = 5 * x + 3\n",
        "print('f(%.2f) = %.2f' % (x, y))"
      ],
      "execution_count": 0,
      "outputs": []
    },
    {
      "cell_type": "code",
      "metadata": {
        "id": "JxQPe5EErZ2W",
        "colab_type": "code",
        "colab": {}
      },
      "source": [
        "value = float(input('请输入长度: '))\n",
        "unit = input('请输入单位: ')\n",
        "if unit == 'in' or unit == '英寸':\n",
        "    print('%f英寸 = %f厘米' % (value, value * 2.54))\n",
        "elif unit == 'cm' or unit == '厘米':\n",
        "    print('%f厘米 = %f英寸' % (value, value / 2.54))\n",
        "else:\n",
        "    print('请输入有效的单位')"
      ],
      "execution_count": 0,
      "outputs": []
    },
    {
      "cell_type": "code",
      "metadata": {
        "id": "KD95ZZeJrcQe",
        "colab_type": "code",
        "outputId": "676a9871-f546-4d80-e252-c154423c1ca1",
        "colab": {
          "base_uri": "https://localhost:8080/",
          "height": 35
        }
      },
      "source": [
        "from random import randint\n",
        "\n",
        "face = randint(1, 6)\n",
        "if face == 1:\n",
        "    result = '唱首歌'\n",
        "elif face == 2:\n",
        "    result = '跳个舞'\n",
        "elif face == 3:\n",
        "    result = '学狗叫'\n",
        "elif face == 4:\n",
        "    result = '做俯卧撑'\n",
        "elif face == 5:\n",
        "    result = '念绕口令'\n",
        "else:\n",
        "    result = '讲冷笑话'\n",
        "print(result)"
      ],
      "execution_count": 0,
      "outputs": [
        {
          "output_type": "stream",
          "text": [
            "念绕口令\n"
          ],
          "name": "stdout"
        }
      ]
    },
    {
      "cell_type": "code",
      "metadata": {
        "id": "c40HpSUrrhs7",
        "colab_type": "code",
        "colab": {}
      },
      "source": [
        "score = float(input('请输入成绩: '))\n",
        "if score >= 90:\n",
        "    grade = 'A'\n",
        "elif score >= 80:\n",
        "    grade = 'B'\n",
        "elif score >= 70:\n",
        "    grade = 'C'\n",
        "elif score >= 60:\n",
        "    grade = 'D'\n",
        "else:\n",
        "    grade = 'E'\n",
        "print('对应的等级是:', grade)"
      ],
      "execution_count": 0,
      "outputs": []
    },
    {
      "cell_type": "code",
      "metadata": {
        "id": "eCvS-onernBP",
        "colab_type": "code",
        "colab": {}
      },
      "source": [
        "import math\n",
        "\n",
        "a = float(input('a = '))\n",
        "b = float(input('b = '))\n",
        "c = float(input('c = '))\n",
        "if a + b > c and a + c > b and b + c > a:\n",
        "    print('周长: %f' % (a + b + c))\n",
        "    p = (a + b + c) / 2\n",
        "    area = math.sqrt(p * (p - a) * (p - b) * (p - c))\n",
        "    print('面积: %f' % (area))\n",
        "else:\n",
        "    print('不能构成三角形')"
      ],
      "execution_count": 0,
      "outputs": []
    },
    {
      "cell_type": "code",
      "metadata": {
        "id": "BCeZZu6Orr0o",
        "colab_type": "code",
        "colab": {}
      },
      "source": [
        "salary = float(input('本月收入: '))\n",
        "insurance = float(input('五险一金: '))\n",
        "diff = salary - insurance - 3500\n",
        "if diff <= 0:\n",
        "    rate = 0\n",
        "    deduction = 0\n",
        "elif diff < 1500:\n",
        "    rate = 0.03\n",
        "    deduction = 0\n",
        "elif diff < 4500:\n",
        "    rate = 0.1\n",
        "    deduction = 105\n",
        "elif diff < 9000:\n",
        "    rate = 0.2\n",
        "    deduction = 555\n",
        "elif diff < 35000:\n",
        "    rate = 0.25\n",
        "    deduction = 1005\n",
        "elif diff < 55000:\n",
        "    rate = 0.3\n",
        "    deduction = 2755\n",
        "elif diff < 80000:\n",
        "    rate = 0.35\n",
        "    deduction = 5505\n",
        "else:\n",
        "    rate = 0.45\n",
        "    deduction = 13505\n",
        "tax = abs(diff * rate - deduction)\n",
        "print('个人所得税: ￥%.2f元' % tax)\n",
        "print('实际到手收入: ￥%.2f元' % (diff + 3500 - tax))"
      ],
      "execution_count": 0,
      "outputs": []
    },
    {
      "cell_type": "code",
      "metadata": {
        "id": "M9HuScd3sStj",
        "colab_type": "code",
        "colab": {}
      },
      "source": [
        "import random\n",
        "\n",
        "answer = random.randint(1, 100)\n",
        "counter = 0\n",
        "while True:\n",
        "    counter += 1\n",
        "    number = int(input('请输入: '))\n",
        "    if number < answer:\n",
        "        print('大一点')\n",
        "    elif number > answer:\n",
        "        print('小一点')\n",
        "    else:\n",
        "        print('恭喜你猜对了!')\n",
        "        break\n",
        "print('你总共猜了%d次' % counter)\n",
        "if counter > 7:\n",
        "    print('你的智商余额明显不足')"
      ],
      "execution_count": 0,
      "outputs": []
    },
    {
      "cell_type": "code",
      "metadata": {
        "id": "098sxQAxYDZ0",
        "colab_type": "code",
        "outputId": "419dea7f-e859-41e0-94eb-244c41b7c27b",
        "colab": {
          "base_uri": "https://localhost:8080/",
          "height": 35
        }
      },
      "source": [
        "a=(1, 3, 5, 7)\n",
        "b=4\n",
        "filter (lambda x: x < b, a) #取出 a中小于4的元素\n",
        "b=6\n",
        "list (filter (lambda x: x < b, a)) #取出 a中小于6的元素\n",
        "b=8\n",
        "len (list (filter (lambda x: x < b, a))) #取出 a中小于6的元素"
      ],
      "execution_count": 0,
      "outputs": [
        {
          "output_type": "execute_result",
          "data": {
            "text/plain": [
              "4"
            ]
          },
          "metadata": {
            "tags": []
          },
          "execution_count": 14
        }
      ]
    },
    {
      "cell_type": "code",
      "metadata": {
        "id": "HYobirBoWU8q",
        "colab_type": "code",
        "colab": {}
      },
      "source": [
        "chinese_zodiac = '猴鸡狗猪鼠牛虎兔龙蛇马羊'\n",
        "year = 2018\n",
        "print (year % 12)\n",
        "print (chinese_zodiac [year % 12])\n",
        "print ('狗' not in chinese_zodiac)"
      ],
      "execution_count": 0,
      "outputs": []
    },
    {
      "cell_type": "code",
      "metadata": {
        "id": "Gag3BCrVdSTM",
        "colab_type": "code",
        "outputId": "39961ced-0237-4b69-bb05-2047f4b45447",
        "colab": {
          "base_uri": "https://localhost:8080/",
          "height": 209
        }
      },
      "source": [
        "zodiac_name = (u'摩羯座', u'水瓶座', u'双鱼座', u'白羊座', u'金牛座', u'双子座',\n",
        "               u'巨蟹座', u'狮子座', u'处女座', u'天秤座', u'天蝎座', u'射手座')\n",
        "zodiac_days = ((1, 20), (2, 19), (3, 21), (4, 21), (5, 21), (6, 22),\n",
        "              (7, 23),  (8, 23), (9, 23), (10, 23), (11, 23), (12, 23))\n",
        "(month, day) = (2, 15)\n",
        "zodiac_day = filter (lambda x: x <= (month, day), zodiac_days)\n",
        "#print (zodiac_day)\n",
        "zodac_len = len(list(zodiac_day)) % 12\n",
        "print (zodiac_name(zodac_len))"
      ],
      "execution_count": 0,
      "outputs": [
        {
          "output_type": "error",
          "ename": "TypeError",
          "evalue": "ignored",
          "traceback": [
            "\u001b[0;31m---------------------------------------------------------------------------\u001b[0m",
            "\u001b[0;31mTypeError\u001b[0m                                 Traceback (most recent call last)",
            "\u001b[0;32m<ipython-input-1-c7aafd2b3ab9>\u001b[0m in \u001b[0;36m<module>\u001b[0;34m()\u001b[0m\n\u001b[1;32m      7\u001b[0m \u001b[0;31m#print (zodiac_day)\u001b[0m\u001b[0;34m\u001b[0m\u001b[0;34m\u001b[0m\u001b[0;34m\u001b[0m\u001b[0m\n\u001b[1;32m      8\u001b[0m \u001b[0mzodac_len\u001b[0m \u001b[0;34m=\u001b[0m \u001b[0mlen\u001b[0m\u001b[0;34m(\u001b[0m\u001b[0mlist\u001b[0m\u001b[0;34m(\u001b[0m\u001b[0mzodiac_day\u001b[0m\u001b[0;34m)\u001b[0m\u001b[0;34m)\u001b[0m \u001b[0;34m%\u001b[0m \u001b[0;36m12\u001b[0m\u001b[0;34m\u001b[0m\u001b[0;34m\u001b[0m\u001b[0m\n\u001b[0;32m----> 9\u001b[0;31m \u001b[0mprint\u001b[0m \u001b[0;34m(\u001b[0m\u001b[0mzodiac_name\u001b[0m\u001b[0;34m(\u001b[0m\u001b[0mzodac_len\u001b[0m\u001b[0;34m)\u001b[0m\u001b[0;34m)\u001b[0m\u001b[0;34m\u001b[0m\u001b[0;34m\u001b[0m\u001b[0m\n\u001b[0m",
            "\u001b[0;31mTypeError\u001b[0m: 'tuple' object is not callable"
          ]
        }
      ]
    },
    {
      "cell_type": "code",
      "metadata": {
        "id": "Dy9SEB_9oaWX",
        "colab_type": "code",
        "outputId": "24f3de16-6062-4ee1-c4fc-bc8c8212f45a",
        "colab": {
          "base_uri": "https://localhost:8080/",
          "height": 53
        }
      },
      "source": [
        "a_list = ['abc', 'xyz']\n",
        "a_list.append ('X')\n",
        "print (a_list)\n",
        "a_list.remove ('xyz')\n",
        "print (a_list)"
      ],
      "execution_count": 0,
      "outputs": [
        {
          "output_type": "stream",
          "text": [
            "['abc', 'xyz', 'X']\n",
            "['abc', 'X']\n"
          ],
          "name": "stdout"
        }
      ]
    },
    {
      "cell_type": "code",
      "metadata": {
        "id": "dejLz48sqNdQ",
        "colab_type": "code",
        "colab": {}
      },
      "source": [
        "chinese_zodiac = '猴鸡狗猪鼠牛虎兔龙蛇马羊'\n",
        "year = int(input ('请用户输入出生年份'))\n",
        "print (chinese_zodiac[year % 12])"
      ],
      "execution_count": 0,
      "outputs": []
    },
    {
      "cell_type": "code",
      "metadata": {
        "id": "MpRyazwnqy-m",
        "colab_type": "code",
        "colab": {}
      },
      "source": [
        "chinese_zodiac = '猴鸡狗猪鼠牛虎兔龙蛇马羊'\n",
        "year = int(input ('请用户输入出生年份'))\n",
        "if(chinese_zodiac[year % 12]) == '狗':\n",
        "   print  ('狗年运势...')\n",
        "for cz in chinese_zodiac:\n",
        "  print (cz)\n",
        "for i in range (1, 13):\n",
        "  print (i)"
      ],
      "execution_count": 0,
      "outputs": []
    },
    {
      "cell_type": "code",
      "metadata": {
        "id": "YwHhN_qDtLoW",
        "colab_type": "code",
        "colab": {}
      },
      "source": [
        "chinese_zodiac = '猴鸡狗猪鼠牛虎兔龙蛇马羊'\n",
        "\n",
        "for year in range (2000,2009):\n",
        "  print ('%s 年的生肖是 %s' %(year, chinese_zodiac[year % 12]))\n"
      ],
      "execution_count": 0,
      "outputs": []
    },
    {
      "cell_type": "code",
      "metadata": {
        "id": "jg7XnlRDqT4-",
        "colab_type": "code",
        "colab": {}
      },
      "source": [
        "num = 5\n",
        "while True:\n",
        "  num = num +1\n",
        "  if num == 10:\n",
        "    continue\n",
        "  print (num)"
      ],
      "execution_count": 0,
      "outputs": []
    },
    {
      "cell_type": "code",
      "metadata": {
        "id": "FFI0uuQ0UC-6",
        "colab_type": "code",
        "outputId": "cf105c0f-dcd9-4e91-c04e-146aaf35eb27",
        "colab": {
          "base_uri": "https://localhost:8080/",
          "height": 71
        }
      },
      "source": [
        "zodiac_name = (u'摩羯座', u'水瓶座', u'双鱼座', u'白羊座', u'金牛座', u'双子座',\n",
        "               u'巨蟹座', u'狮子座', u'处女座', u'天秤座', u'天蝎座', u'射手座')\n",
        "zodiac_days = ((1, 20), (2, 19), (3, 21), (4, 21), (5, 21), (6, 22),\n",
        "              (7, 23),  (8, 23), (9, 23), (10, 23), (11, 23), (12, 23))\n",
        "\n",
        "int_month = int (input('请输入月份：'))\n",
        "int_day = int (input('请输入日期：'))\n",
        "for zd_num in range (len(zodiac_days)):\n",
        "  if zodiac_days[zd_num] >= (int_month, int_day):\n",
        "    print (zodiac_name[zd_num])\n",
        "    break\n",
        "  elif int_month ==12 and int_day >23:\n",
        "    print (zodiac_name[0])\n",
        "    break"
      ],
      "execution_count": 0,
      "outputs": [
        {
          "output_type": "stream",
          "text": [
            "请输入月份：12\n",
            "请输入日期：25\n",
            "摩羯座\n"
          ],
          "name": "stdout"
        }
      ]
    },
    {
      "cell_type": "code",
      "metadata": {
        "id": "7mR4JUZ1W5rn",
        "colab_type": "code",
        "outputId": "8d34a9ac-fc1b-499f-9f17-7c9b7845488c",
        "colab": {
          "base_uri": "https://localhost:8080/",
          "height": 71
        }
      },
      "source": [
        "zodiac_name = (u'摩羯座', u'水瓶座', u'双鱼座', u'白羊座', u'金牛座', u'双子座',\n",
        "               u'巨蟹座', u'狮子座', u'处女座', u'天秤座', u'天蝎座', u'射手座')\n",
        "zodiac_days = ((1, 20), (2, 19), (3, 21), (4, 21), (5, 21), (6, 22),\n",
        "              (7, 23),  (8, 23), (9, 23), (10, 23), (11, 23), (12, 23))\n",
        "\n",
        "int_month = int (input('请输入月份：'))\n",
        "int_day = int (input('请输入日期：'))\n",
        "\n",
        "n = 0\n",
        "while zodiac_days [n] < (int_month, int_day):\n",
        "  if int_month ==12 and int_day >23:\n",
        "    break\n",
        "  n += 1\n",
        "print (zodiac_name[n])"
      ],
      "execution_count": 0,
      "outputs": [
        {
          "output_type": "stream",
          "text": [
            "请输入月份：12\n",
            "请输入日期：25\n",
            "摩羯座\n"
          ],
          "name": "stdout"
        }
      ]
    },
    {
      "cell_type": "code",
      "metadata": {
        "id": "B7dQxhEjgSPC",
        "colab_type": "code",
        "colab": {}
      },
      "source": [
        "chinese_zodiac = '猴鸡狗猪鼠牛虎兔龙蛇马羊'\n",
        "zodiac_name = (u'摩羯座', u'水瓶座', u'双鱼座', u'白羊座', u'金牛座', u'双子座',\n",
        "               u'巨蟹座', u'狮子座', u'处女座', u'天秤座', u'天蝎座', u'射手座')\n",
        "zodiac_days = ((1, 20), (2, 19), (3, 21), (4, 21), (5, 21), (6, 22),\n",
        "              (7, 23),  (8, 23), (9, 23), (10, 23), (11, 23), (12, 23))\n",
        "\n",
        "\n",
        "cz_num = {}\n",
        "for i in chinese_zodiac:\n",
        "  cz_num[i] = 0\n",
        "\n",
        "z_num ={}\n",
        "for i in zodiac_name:\n",
        "  z_num[i] = 0\n",
        "# z_num = {i:0 for i in zodiac_name}\n",
        "\n",
        "while True:\n",
        "  year = int (input('请输入年份：'))\n",
        "  month = int (input('请输入月份：'))\n",
        "  day = int (input('请输入日期：'))\n",
        "\n",
        "  n = 0\n",
        "  while zodiac_days [n] < (month, day):\n",
        "    if month ==12 and day >23:\n",
        "      break\n",
        "    n += 1\n",
        "#输出生肖和星座\n",
        "  print (zodiac_name[n])\n",
        "  print ('%s 年的生肖是 %s' %(year, chinese_zodiac[year % 12]))\n",
        "  \n",
        "  cz_num[chinese_zodiac[year % 12]] += 1\n",
        "  z_num[zodiac_name[n]] += 1\n",
        "  \n",
        "  #输出生肖和星座的统计信息\n",
        "  for each_key in cz_num.keys():\n",
        "    print ('生肖 %s 有 %d 个'%(each_key,cz_num[each_key]))\n",
        "  for each_key in z_num.keys ():\n",
        "    print ('星座 %s 有 %d 个'%(each_key,z_num[each_key]))"
      ],
      "execution_count": 0,
      "outputs": []
    },
    {
      "cell_type": "code",
      "metadata": {
        "id": "wBQThgSGp1IY",
        "colab_type": "code",
        "outputId": "7b840310-2c15-44f2-be53-f2cc8f0045c4",
        "colab": {
          "base_uri": "https://localhost:8080/"
        }
      },
      "source": [
        "#从1到10所有偶数的平方\n",
        "alist = []\n",
        "for i in range (1,11):\n",
        "  if (i % 2) == 0:\n",
        "    alist.append( i*i )\n",
        "print (alist)\n",
        "\n",
        "#更简洁的写法\n",
        "blist = [i*i for i in range (1,11) if (i % 2) == 0]\n",
        "print (blist)\n"
      ],
      "execution_count": 0,
      "outputs": [
        {
          "output_type": "stream",
          "text": [
            "[4, 16, 36, 64, 100]\n",
            "[4, 16, 36, 64, 100]\n"
          ],
          "name": "stdout"
        }
      ]
    },
    {
      "cell_type": "code",
      "metadata": {
        "id": "s-P2sBsvkv8S",
        "colab_type": "code",
        "outputId": "3b50e126-104b-4827-cf60-5875c2bcaaea",
        "colab": {
          "base_uri": "https://localhost:8080/",
          "height": 35
        }
      },
      "source": [
        "# 将小说的主要任务记录在文件中  视频19\n",
        "file1= open ('name.txt', 'w')\n",
        "file1.write ('诸葛亮')\n",
        "file1.close()\n",
        "\n",
        "file2= open ('name.txt')\n",
        "print (file2.read())\n",
        "file2.close()\n",
        "\n",
        "file3 = open ('name.txt', 'a')\n",
        "file3.write ('刘备')\n",
        "file3.close()"
      ],
      "execution_count": 0,
      "outputs": [
        {
          "output_type": "stream",
          "text": [
            "诸葛亮\n"
          ],
          "name": "stdout"
        }
      ]
    },
    {
      "cell_type": "code",
      "metadata": {
        "id": "KNNzLOaIuZyH",
        "colab_type": "code",
        "outputId": "56081f75-d7e1-45c5-ab3e-25927241a2e5",
        "colab": {
          "base_uri": "https://localhost:8080/",
          "height": 71
        }
      },
      "source": [
        "file4 = open ('name.txt')\n",
        "print (file4.readline())\n",
        "\n",
        "file5 = open ('name.txt')\n",
        "for line in file5.readlines():\n",
        "  print (line)\n",
        "  print ('=====')"
      ],
      "execution_count": 0,
      "outputs": [
        {
          "output_type": "stream",
          "text": [
            "诸葛亮刘备\n",
            "诸葛亮刘备\n",
            "=====\n"
          ],
          "name": "stdout"
        }
      ]
    },
    {
      "cell_type": "code",
      "metadata": {
        "id": "EESO2KtZCmIA",
        "colab_type": "code",
        "colab": {}
      },
      "source": [
        "file6 = open ('name.txt')\n",
        "print ('当前文件指针的位置' %file6.tell())\n",
        "print ('当前读取到了一个字符，字符的内容是 %s' %file6.read(1))\n",
        "print ('当前文件指针的位置' %file6.tell())\n",
        "#第一个参数代表偏移位置， 第二个参数 0 表示从文件开头偏移，1表示从当前位置偏移， 2 从文件结尾\n",
        "file6.seek(5, 0)\n",
        "print ('当前文件指针的位置' %file6.tell())\n",
        "print ('当前读取到了一个字符，字符的内容是 %s' %file6.read(1))\n",
        "print ('当前文件指针的位置' %file6.tell())\n",
        "file6.close()\n"
      ],
      "execution_count": 0,
      "outputs": []
    },
    {
      "cell_type": "code",
      "metadata": {
        "id": "FhXZ-o23Qq09",
        "colab_type": "code",
        "outputId": "5e1ef357-0f90-47ec-d891-ceb1a40eb7ce",
        "colab": {
          "base_uri": "https://localhost:8080/",
          "height": 53
        }
      },
      "source": [
        "# 函数的变量作用域\n",
        "var1 = 123\n",
        "def func():\n",
        "  global var1\n",
        "  var1 = 456\n",
        "  print(var1)\n",
        "\n",
        "func()\n",
        "print(var1)"
      ],
      "execution_count": 0,
      "outputs": [
        {
          "output_type": "stream",
          "text": [
            "456\n",
            "456\n"
          ],
          "name": "stdout"
        }
      ]
    },
    {
      "cell_type": "code",
      "metadata": {
        "id": "iIVS73ibVb07",
        "colab_type": "code",
        "outputId": "29a6fd11-240d-415c-f2e9-f2c4092b1730",
        "colab": {
          "base_uri": "https://localhost:8080/",
          "height": 35
        }
      },
      "source": [
        "def add(x,y):\n",
        "  return x+y\n",
        "add (3,5)"
      ],
      "execution_count": 0,
      "outputs": [
        {
          "output_type": "execute_result",
          "data": {
            "text/plain": [
              "8"
            ]
          },
          "metadata": {
            "tags": []
          },
          "execution_count": 19
        }
      ]
    },
    {
      "cell_type": "code",
      "metadata": {
        "id": "1VV92QXCeq6i",
        "colab_type": "code",
        "outputId": "99e5a39d-aa11-4586-d42c-e39c0f23cdea",
        "colab": {
          "base_uri": "https://localhost:8080/",
          "height": 35
        }
      },
      "source": [
        "#python内建函数 filter()  map() reduce () zip ()\n",
        "a=[1,2,3,4,5,6,7]\n",
        "list(filter(lambda x:x>2,a))\n",
        "\n",
        "a=[1,2,3]\n",
        "list(map(lambda x:x+1,a))\n",
        "b=[4,5,6]\n",
        "list (map(lambda x,y:x+y,a,b))"
      ],
      "execution_count": 0,
      "outputs": [
        {
          "output_type": "execute_result",
          "data": {
            "text/plain": [
              "[5, 7, 9]"
            ]
          },
          "metadata": {
            "tags": []
          },
          "execution_count": 23
        }
      ]
    },
    {
      "cell_type": "code",
      "metadata": {
        "id": "jQ_UAvNQfVi5",
        "colab_type": "code",
        "outputId": "3c5114ba-3fce-4390-e9bc-2f2b2a5e9bb8",
        "colab": {
          "base_uri": "https://localhost:8080/",
          "height": 35
        }
      },
      "source": [
        "from functools import reduce\n",
        "reduce (lambda x,y:x+y,[2,3,4],1)"
      ],
      "execution_count": 0,
      "outputs": [
        {
          "output_type": "execute_result",
          "data": {
            "text/plain": [
              "10"
            ]
          },
          "metadata": {
            "tags": []
          },
          "execution_count": 24
        }
      ]
    },
    {
      "cell_type": "code",
      "metadata": {
        "id": "rgIXZ5Z1frCV",
        "colab_type": "code",
        "outputId": "20cc27ec-cd43-4050-8822-2b614f0cc09e",
        "colab": {
          "base_uri": "https://localhost:8080/",
          "height": 71
        }
      },
      "source": [
        "#zip ((1,2,3),(4,5,6)) 矩阵转换\n",
        "for i in zip ((1,2,3),(4,5,6)):\n",
        " print (i)\n"
      ],
      "execution_count": 0,
      "outputs": [
        {
          "output_type": "stream",
          "text": [
            "(1, 4)\n",
            "(2, 5)\n",
            "(3, 6)\n"
          ],
          "name": "stdout"
        }
      ]
    },
    {
      "cell_type": "code",
      "metadata": {
        "id": "K-wPXSy2hTxk",
        "colab_type": "code",
        "outputId": "f844edfa-20c4-491b-8410-6deefc86f120",
        "colab": {
          "base_uri": "https://localhost:8080/",
          "height": 35
        }
      },
      "source": [
        "dicta = {'a':'aa', 'b':'bb'}\n",
        "dictb = zip (dicta.values(),dicta.keys())\n",
        "print (dict(dictb))"
      ],
      "execution_count": 0,
      "outputs": [
        {
          "output_type": "stream",
          "text": [
            "{'aa': 'a', 'bb': 'b'}\n"
          ],
          "name": "stdout"
        }
      ]
    },
    {
      "cell_type": "code",
      "metadata": {
        "id": "3TRDGpNYiHdu",
        "colab_type": "code",
        "outputId": "e77bf973-164f-456b-e18a-dfc216a0af2e",
        "colab": {
          "base_uri": "https://localhost:8080/",
          "height": 53
        }
      },
      "source": [
        "#闭包\n",
        "def sum(a):\n",
        "  def add(b):\n",
        "    return a+b\n",
        "  \n",
        "  return add\n",
        "# add 函数名称或函数的引用  add ()函数的调用\n",
        "num1 = func ()\n",
        "num2 = sum(2)\n",
        "print (num2(4))"
      ],
      "execution_count": 0,
      "outputs": [
        {
          "output_type": "stream",
          "text": [
            "456\n",
            "6\n"
          ],
          "name": "stdout"
        }
      ]
    },
    {
      "cell_type": "code",
      "metadata": {
        "id": "6NEhX6P6jkAP",
        "colab_type": "code",
        "colab": {}
      },
      "source": [
        "def counter (FIRST=0):\n",
        "  cnt = [FIRST]\n",
        "  def add_one():\n",
        "    cnt[0] += 1\n",
        "    return cnt[0]\n",
        "    \n",
        "  return add_one\n",
        "num5 = counter (5)\n",
        "num10 = counter (10)\n",
        "print (num5 ())\n",
        "print (num5 ())\n",
        "print (num10 ())"
      ],
      "execution_count": 0,
      "outputs": []
    },
    {
      "cell_type": "code",
      "metadata": {
        "id": "wwLmnsEkn0rx",
        "colab_type": "code",
        "outputId": "4fb65556-f17a-4283-f8d6-e0e78c4eff07",
        "colab": {
          "base_uri": "https://localhost:8080/",
          "height": 53
        }
      },
      "source": [
        "def a_line (a,b):\n",
        "  def arg_y(x):\n",
        "    return a*x+b\n",
        "  return arg_y\n",
        "\n",
        "line1 = a_line (3,5)\n",
        "line2 = a_line (5,10)\n",
        "\n",
        "print (line1(10))\n",
        "print (line1(20))"
      ],
      "execution_count": 0,
      "outputs": [
        {
          "output_type": "stream",
          "text": [
            "35\n",
            "65\n"
          ],
          "name": "stdout"
        }
      ]
    },
    {
      "cell_type": "code",
      "metadata": {
        "id": "x4vIQivZ6OhH",
        "colab_type": "code",
        "outputId": "9cf89785-ddb1-47d4-d5a3-a3b02d56120b",
        "colab": {
          "base_uri": "https://localhost:8080/",
          "height": 35
        }
      },
      "source": [
        "import time\n",
        "\n",
        "def i_can_sleep():\n",
        "  time.sleep(3)\n",
        "  \n",
        "start_time = time.time()\n",
        "i_can_sleep()\n",
        "stop_time = time.time()\n",
        "print ('函数运行了 %s 秒' %(stop_time-start_time))"
      ],
      "execution_count": 0,
      "outputs": [
        {
          "output_type": "stream",
          "text": [
            "函数运行了 3.0035030841827393 秒\n"
          ],
          "name": "stdout"
        }
      ]
    },
    {
      "cell_type": "code",
      "metadata": {
        "id": "3pTB45DC7RMq",
        "colab_type": "code",
        "outputId": "6ddbde4f-8ad1-4fda-faf4-dc980896ba66",
        "colab": {
          "base_uri": "https://localhost:8080/",
          "height": 35
        }
      },
      "source": [
        "import time\n",
        "\n",
        "def timmer (func):\n",
        "  def wrapper():\n",
        "    start_time = time.time()\n",
        "    func()\n",
        "    stop_time = time.time()\n",
        "    print ('函数运行了 %s 秒' %(stop_time-start_time))\n",
        "  return wrapper \n",
        "\n",
        "@timmer\n",
        "def i_can_sleep():\n",
        "  time.sleep(3)\n",
        "  \n",
        "i_can_sleep()"
      ],
      "execution_count": 0,
      "outputs": [
        {
          "output_type": "stream",
          "text": [
            "函数运行了 3.002358913421631 秒\n"
          ],
          "name": "stdout"
        }
      ]
    },
    {
      "cell_type": "code",
      "metadata": {
        "id": "KICMxM499uNV",
        "colab_type": "code",
        "colab": {}
      },
      "source": [
        "def new_tips (argv):\n",
        "  def tips(func):\n",
        "    def nei (a,b):\n",
        "      print('start')\n",
        "      func(a,b)\n",
        "      print('stop')\n",
        "    return nei\n",
        "  return tips\n",
        "\n",
        "@new_tips ('add')\n",
        "def add(a,b):\n",
        "  print (a+b)\n",
        "\n",
        "@new_tips ('sub')\n",
        "def sub(a,b):\n",
        "  print (a-b)\n",
        "\n",
        "print (add(4,5))\n",
        "print (sub(7,3))"
      ],
      "execution_count": 0,
      "outputs": []
    },
    {
      "cell_type": "code",
      "metadata": {
        "id": "mYqFCJw-BwHy",
        "colab_type": "code",
        "colab": {}
      },
      "source": [
        "def new_tips (argv):\n",
        "  def tips(func):\n",
        "    def nei (a,b):\n",
        "      print('start %s %s' %(argv,func.__name__))\n",
        "      func(a,b)\n",
        "      print('stop')\n",
        "    return nei\n",
        "  return tips\n",
        "\n",
        "@new_tips ('add_module')\n",
        "def add(a,b):\n",
        "  print (a+b)\n",
        "\n",
        "@new_tips ('sub_module')\n",
        "def sub(a,b):\n",
        "  print (a-b)\n",
        "\n",
        "print (add(4,5))\n",
        "print (sub(7,3))"
      ],
      "execution_count": 0,
      "outputs": []
    },
    {
      "cell_type": "code",
      "metadata": {
        "id": "26q8cZOGAkmS",
        "colab_type": "code",
        "colab": {}
      },
      "source": [
        "#上下文管理器\n",
        "with open ('name.txt') as f:\n",
        "  for line in f:\n",
        "    print (line)"
      ],
      "execution_count": 0,
      "outputs": []
    },
    {
      "cell_type": "code",
      "metadata": {
        "id": "R13uhaUzJJQY",
        "colab_type": "code",
        "outputId": "689b4416-1043-4e83-92f6-4eebcfad66f2",
        "colab": {
          "base_uri": "https://localhost:8080/",
          "height": 35
        }
      },
      "source": [
        "#类与实例  面向过程的编程\n",
        "user1 = {'name':'tom','hp':100}\n",
        "user2 = {'name':'jerry','hp':80}\n",
        "\n",
        "def print_role(rolename):\n",
        "  print ('name is %s, hp is %s' %(rolename['name'],rolename['hp']))\n",
        "  \n",
        "print_role (user1)\n",
        "\n"
      ],
      "execution_count": 0,
      "outputs": [
        {
          "output_type": "stream",
          "text": [
            "name is tom, hp is 100\n"
          ],
          "name": "stdout"
        }
      ]
    },
    {
      "cell_type": "code",
      "metadata": {
        "id": "xvvt9isyU3hG",
        "colab_type": "code",
        "outputId": "4c955c44-e8a5-47d4-e1e7-91acbbbca377",
        "colab": {
          "base_uri": "https://localhost:8080/",
          "height": 53
        }
      },
      "source": [
        "#类与实例  面向对象的编程\n",
        "class Player(): #定义一个类\n",
        "  def __init__(self, name, hp):\n",
        "    self.name = name\n",
        "    self.hp = hp\n",
        "  def print_role(self): #定义一个方法\n",
        "    print ('%s: %s' %(self.name, self.hp))\n",
        "\n",
        "user1 = Player ('tom', 100) #类的实例化\n",
        "user2 = Player ('jerry', 80)\n",
        "user1.print_role()\n",
        "user2.print_role()"
      ],
      "execution_count": 0,
      "outputs": [
        {
          "output_type": "stream",
          "text": [
            "tom: 100\n",
            "jerry: 80\n"
          ],
          "name": "stdout"
        }
      ]
    },
    {
      "cell_type": "code",
      "metadata": {
        "id": "UzKAkF9KVybX",
        "colab_type": "code",
        "colab": {}
      },
      "source": [
        "#类的封装    ???\n",
        "class Player(): #定义一个类\n",
        "  def __init__(self, name, hp, occu):\n",
        "    self.name = name\n",
        "    self.hp = hp\n",
        "    self.occu = occu\n",
        "  def print_role(self):  #定义一个方法\n",
        "    print ('%s: %s' %(self.name, self.hp, self.occu))\n",
        "\n",
        "  def updateName(self,newname):\n",
        "    self.name = newname\n",
        "    \n",
        "class Monster():\n",
        "  # 定义怪物类\n",
        "  pass\n",
        "    \n",
        "user1 = Player ('tom', 100, 'war') #类的实例化\n",
        "user2 = Player ('jerry', 80, 'master')\n",
        "user1.print_role()\n",
        "user2.print_role()\n",
        "\n",
        "user1.updateName('wilson')\n",
        "user1.print_role()"
      ],
      "execution_count": 0,
      "outputs": []
    },
    {
      "cell_type": "code",
      "metadata": {
        "id": "kvAacx6ZgtdL",
        "colab_type": "code",
        "outputId": "19f7b0e3-ad69-465b-dec9-64f1759adf48",
        "colab": {
          "base_uri": "https://localhost:8080/",
          "height": 137
        }
      },
      "source": [
        "# 猫科动物 -》#猫\n",
        "class Player(): #定义一个类\n",
        "  def __init__(self, name, hp, occu):\n",
        "    self.name = name\n",
        "    self.hp = hp\n",
        "    self.occu = occu\n",
        "  def print_role(self):  #定义一个方法\n",
        "    print ('%s: %s' %(self.name, self.hp, self.occu))\n",
        "\n",
        "  def updateName(self,newname):\n",
        "    self.name = newname\n",
        "    \n",
        "class Monster():\n",
        "  # 定义怪物类\n",
        "  def __int__(self, hp = 100):\n",
        "    self.hp = hp\n",
        "  def run (self):\n",
        "    print ('移动到某个未知位置')\n",
        "    \n",
        "  class Animals(Monster):\n",
        "  # 普通怪物\n",
        "     def __int__(self, hp = 10):\n",
        "      self.hp = hp\n",
        "    def run(self):\n",
        "      print ('移动到某个未知位置')\n",
        "\n",
        "    class Boss(Monster):\n",
        "    # Boss怪物\n",
        "\n",
        "a1 = Monster(200)\n",
        "print (a1, hp)\n",
        "print (a1, run())\n",
        "a2 = Animals(1)\n",
        "print (a2, hp)\n",
        "print (a2, run())"
      ],
      "execution_count": 0,
      "outputs": [
        {
          "output_type": "error",
          "ename": "IndentationError",
          "evalue": "ignored",
          "traceback": [
            "\u001b[0;36m  File \u001b[0;32m\"<ipython-input-15-0b6483c42391>\"\u001b[0;36m, line \u001b[0;32m23\u001b[0m\n\u001b[0;31m    def run(self):\u001b[0m\n\u001b[0m                  ^\u001b[0m\n\u001b[0;31mIndentationError\u001b[0m\u001b[0;31m:\u001b[0m unindent does not match any outer indentation level\n"
          ]
        }
      ]
    },
    {
      "cell_type": "code",
      "metadata": {
        "id": "Q1UGedMFJdDH",
        "colab_type": "code",
        "outputId": "b7f83bb2-f513-49f9-e408-4c8c766f8c57",
        "colab": {
          "base_uri": "https://localhost:8080/",
          "height": 137
        }
      },
      "source": [
        "class Player(): #定义一个类\n",
        "  def __init__(self, name, hp, occu):\n",
        "    self.name = name\n",
        "    self.hp = hp\n",
        "    self.occu = occu\n",
        "  def print_role(self):  #定义一个方法\n",
        "    print ('%s: %s' %(self.name, self.hp, self.occu))\n",
        "\n",
        "  def updateName(self,newname):\n",
        "    self.name = newname\n",
        "    \n",
        "class Monster():\n",
        "  # 定义怪物类\n",
        "  def __int__(self, hp = 100):\n",
        "    self.hp = hp\n",
        "  def run (self):\n",
        "    print ('移动到某个未知位置')\n",
        "    \n",
        "class Animals(Monster):\n",
        "  # 普通怪物\n",
        "     def __int__(self, hp = 10):\n",
        "      super(). __int__(hp)\n",
        "\n",
        "class Boss(Monster):\n",
        "    # Boss怪物\n",
        "\n",
        "a1 = Monster(200)\n",
        "print (a1, hp)\n",
        "print (a1, run())\n",
        "a2 = Animals(1)\n",
        "print (a2, hp)\n",
        "print (a2, run())"
      ],
      "execution_count": 0,
      "outputs": [
        {
          "output_type": "error",
          "ename": "IndentationError",
          "evalue": "ignored",
          "traceback": [
            "\u001b[0;36m  File \u001b[0;32m\"<ipython-input-16-70130a0b2622>\"\u001b[0;36m, line \u001b[0;32m27\u001b[0m\n\u001b[0;31m    a1 = Monster(200)\u001b[0m\n\u001b[0m     ^\u001b[0m\n\u001b[0;31mIndentationError\u001b[0m\u001b[0;31m:\u001b[0m expected an indented block\n"
          ]
        }
      ]
    },
    {
      "cell_type": "code",
      "metadata": {
        "id": "wFceM_iKLQyJ",
        "colab_type": "code",
        "colab": {}
      },
      "source": [
        "#类的使用 自定义with语句\n",
        "class Testwith():\n",
        "  def __enter__(self):\n",
        "    print ('run')\n",
        "  def __exit__(self, exc_type, exc_val, exc_tb):\n",
        "    if exc_tb is None:\n",
        "      print('正常结束')\n",
        "    else:\n",
        "      print ('has error %' %exc_tb)\n",
        "    \n",
        "    \n",
        "with Testwith():\n",
        "  print ('Test is running')\n",
        "  raise NameErrror ('testNameError')"
      ],
      "execution_count": 0,
      "outputs": []
    },
    {
      "cell_type": "code",
      "metadata": {
        "id": "TDHe8xqZR65W",
        "colab_type": "code",
        "colab": {}
      },
      "source": [
        "#多线程编程\n",
        "import threading\n",
        "import time\n",
        "from threading import current_thread\n",
        "\n",
        "def myThread (arg1,arg2):\n",
        "  print (current_thread().getName, 'start')\n",
        "  print ('%s %s' %(arg1, arg2))\n",
        "  time.sleep(1)\n",
        "  print (current_thread().getName, 'stop')\n",
        "  \n",
        "for i in range(1,6,1):\n",
        "  t1 = threading.Thread(target = myThread, args=(i,i+1))\n",
        "  t1.start\n",
        "\n",
        "print (current_thread().getName, 'end')"
      ],
      "execution_count": 0,
      "outputs": []
    },
    {
      "cell_type": "code",
      "metadata": {
        "id": "JdzWAf7XVO12",
        "colab_type": "code",
        "colab": {}
      },
      "source": [
        "#多线程编程\n",
        "import threading\n",
        "from threading import current_thread\n",
        "\n",
        "class Mythread(threading.Thread()):\n",
        "  def run(self):\n",
        "      print (current_thread().getName, 'start')\n",
        "      print ('run')\n",
        "      print (current_thread().getName, 'stop')\n",
        "      \n",
        "t1 = Mythread()\n",
        "t1.start()\n",
        "t1.join\n",
        "\n",
        "print (current_thread().getName, 'end')"
      ],
      "execution_count": 0,
      "outputs": []
    },
    {
      "cell_type": "code",
      "metadata": {
        "id": "pkJbaT5HVgow",
        "colab_type": "code",
        "outputId": "77f39ae2-0f4d-479c-ff8c-396856f8c9c1",
        "colab": {
          "base_uri": "https://localhost:8080/",
          "height": 245
        }
      },
      "source": [
        "from threading import current_thread\n",
        "import time\n",
        "import random\n",
        "from queue import Queue\n",
        "\n",
        "queue = Queue(5)\n",
        "\n",
        "class ProducerThread(Thread):\n",
        "  def run(self):\n",
        "    name = current_thread().getName()\n",
        "    nums = range (100)\n",
        "    global queue\n",
        "    while True:\n",
        "      num = random.choice(nums)\n",
        "      queue.put(num)\n",
        "      print('生产者 %s 生产了数据 %s' %(name, num))\n",
        "      t =random.randint(1,3)\n",
        "      time.sleep(t)\n",
        "      print('生产者 %s 睡眠了 %s 秒' %(name, t))\n",
        "      \n",
        "class ConsumerThread(Thread):\n",
        "  def run(self):\n",
        "    name = current_thread().getName()\n",
        "    nums = range (100)\n",
        "    global queue\n",
        "    while True:\n",
        "      num = random.choice(nums)\n",
        "      queue.taskdone()\n",
        "      print('消费者 %s 消耗了数据 %s' %(name, num))\n",
        "      t =random.randint(1,3)\n",
        "      time.sleep(t)\n",
        "      print('生产者 %s 睡眠了 %s 秒' %(name, t))              \n",
        "\n",
        "p1 = ProducerThread(name = 'p1')\n",
        "p1.start()\n",
        "c1 = ConsumerThread(name = 'c1')\n",
        "c1.start\n",
        "c2 = ConsumerThread(name = 'c2')\n",
        "c2.start"
      ],
      "execution_count": 0,
      "outputs": [
        {
          "output_type": "error",
          "ename": "NameError",
          "evalue": "ignored",
          "traceback": [
            "\u001b[0;31m---------------------------------------------------------------------------\u001b[0m",
            "\u001b[0;31mNameError\u001b[0m                                 Traceback (most recent call last)",
            "\u001b[0;32m<ipython-input-3-9ca4707e7f9c>\u001b[0m in \u001b[0;36m<module>\u001b[0;34m()\u001b[0m\n\u001b[1;32m      6\u001b[0m \u001b[0mqueue\u001b[0m \u001b[0;34m=\u001b[0m \u001b[0mQueue\u001b[0m\u001b[0;34m(\u001b[0m\u001b[0;36m5\u001b[0m\u001b[0;34m)\u001b[0m\u001b[0;34m\u001b[0m\u001b[0;34m\u001b[0m\u001b[0m\n\u001b[1;32m      7\u001b[0m \u001b[0;34m\u001b[0m\u001b[0m\n\u001b[0;32m----> 8\u001b[0;31m \u001b[0;32mclass\u001b[0m \u001b[0mProducerThread\u001b[0m\u001b[0;34m(\u001b[0m\u001b[0mThread\u001b[0m\u001b[0;34m)\u001b[0m\u001b[0;34m:\u001b[0m\u001b[0;34m\u001b[0m\u001b[0;34m\u001b[0m\u001b[0m\n\u001b[0m\u001b[1;32m      9\u001b[0m   \u001b[0;32mdef\u001b[0m \u001b[0mrun\u001b[0m\u001b[0;34m(\u001b[0m\u001b[0mself\u001b[0m\u001b[0;34m)\u001b[0m\u001b[0;34m:\u001b[0m\u001b[0;34m\u001b[0m\u001b[0;34m\u001b[0m\u001b[0m\n\u001b[1;32m     10\u001b[0m     \u001b[0mname\u001b[0m \u001b[0;34m=\u001b[0m \u001b[0mcurrent_thread\u001b[0m\u001b[0;34m(\u001b[0m\u001b[0;34m)\u001b[0m\u001b[0;34m.\u001b[0m\u001b[0mgetName\u001b[0m\u001b[0;34m(\u001b[0m\u001b[0;34m)\u001b[0m\u001b[0;34m\u001b[0m\u001b[0;34m\u001b[0m\u001b[0m\n",
            "\u001b[0;31mNameError\u001b[0m: name 'Thread' is not defined"
          ]
        }
      ]
    },
    {
      "cell_type": "code",
      "metadata": {
        "id": "o6UiThYw2Qe_",
        "colab_type": "code",
        "outputId": "36c1a3b4-5219-4727-f07b-52cf8d367fbf",
        "colab": {
          "base_uri": "https://localhost:8080/",
          "height": 35
        }
      },
      "source": [
        "#正则表达式\n",
        "# . ^ $ * + ? {m}  {m,n} {}  |  \\d \\D \\s ()\n",
        "# ^$\n",
        "# .*?\n",
        "\n",
        "import re\n",
        "\n",
        "p = re.compile('ca*t')\n",
        "print (p.match('caaaat'))"
      ],
      "execution_count": 0,
      "outputs": [
        {
          "output_type": "stream",
          "text": [
            "<_sre.SRE_Match object; span=(0, 6), match='caaaat'>\n"
          ],
          "name": "stdout"
        }
      ]
    },
    {
      "cell_type": "code",
      "metadata": {
        "id": "LoUYMmRj2xvD",
        "colab_type": "code",
        "outputId": "7ce9f34c-1748-424a-f6a8-22bf17c32532",
        "colab": {
          "base_uri": "https://localhost:8080/",
          "height": 137
        }
      },
      "source": [
        "import re\n",
        "\n",
        "p = re.compile(r'(\\d+)-(\\d+)-(\\d+)')\n",
        "print (p.match('2018-05-10').group(2))\n",
        "print (p.match('2018-05-10').groups())\n",
        "\n",
        "year, month, day = (p.match('2018-05-10').groups()\n",
        "print(year)                  "
      ],
      "execution_count": 0,
      "outputs": [
        {
          "output_type": "error",
          "ename": "SyntaxError",
          "evalue": "ignored",
          "traceback": [
            "\u001b[0;36m  File \u001b[0;32m\"<ipython-input-14-48c257d9c59c>\"\u001b[0;36m, line \u001b[0;32m8\u001b[0m\n\u001b[0;31m    print(year)\u001b[0m\n\u001b[0m        ^\u001b[0m\n\u001b[0;31mSyntaxError\u001b[0m\u001b[0;31m:\u001b[0m invalid syntax\n"
          ]
        }
      ]
    },
    {
      "cell_type": "code",
      "metadata": {
        "id": "nVAj-gtmGWHP",
        "colab_type": "code",
        "outputId": "8c26a4c7-434b-4839-ae2f-dce16287d60c",
        "colab": {
          "base_uri": "https://localhost:8080/",
          "height": 35
        }
      },
      "source": [
        "import re\n",
        "\n",
        "p = re.compile(r'(\\d+)-(\\d+)-(\\d+)')\n",
        "print (p.search('aa2018-05-10bb'))\n"
      ],
      "execution_count": 0,
      "outputs": [
        {
          "output_type": "stream",
          "text": [
            "<_sre.SRE_Match object; span=(2, 12), match='2018-05-10'>\n"
          ],
          "name": "stdout"
        }
      ]
    },
    {
      "cell_type": "code",
      "metadata": {
        "id": "UVTvKWeBG-bP",
        "colab_type": "code",
        "outputId": "6b12ee36-efe5-4f3e-b16e-53bc53e44990",
        "colab": {
          "base_uri": "https://localhost:8080/",
          "height": 137
        }
      },
      "source": [
        "import re\n",
        "\n",
        "p = re.compile(r'(\\d+)-(\\d+)-(\\d+)')\n",
        "print (p.search('aa2018-05-10bb'))\n",
        "phone = '123-456-789 #这是电话号码'\n",
        "p2 = re.sub(r'#,*$,'',phone)\n",
        "print(p2)\n",
        "p3 = re.sub (r'\\D', '',p2)\n",
        "print(p3)\n",
        "findall()\n",
        "\n"
      ],
      "execution_count": 0,
      "outputs": [
        {
          "output_type": "error",
          "ename": "SyntaxError",
          "evalue": "ignored",
          "traceback": [
            "\u001b[0;36m  File \u001b[0;32m\"<ipython-input-20-18c1789406ac>\"\u001b[0;36m, line \u001b[0;32m6\u001b[0m\n\u001b[0;31m    p2 = re.sub(r'#,*$,'',phone)\u001b[0m\n\u001b[0m                                ^\u001b[0m\n\u001b[0;31mSyntaxError\u001b[0m\u001b[0;31m:\u001b[0m EOL while scanning string literal\n"
          ]
        }
      ]
    },
    {
      "cell_type": "code",
      "metadata": {
        "id": "2xHR9hRlI2lm",
        "colab_type": "code",
        "outputId": "42b29214-5fe6-47bc-8aa9-e91de62b509c",
        "colab": {
          "base_uri": "https://localhost:8080/",
          "height": 53
        }
      },
      "source": [
        "import random\n",
        "print (random.randint(1, 5))\n",
        "print (random.choice(['aa','bb','cc']))"
      ],
      "execution_count": 0,
      "outputs": [
        {
          "output_type": "stream",
          "text": [
            "1\n",
            "bb\n"
          ],
          "name": "stdout"
        }
      ]
    },
    {
      "cell_type": "code",
      "metadata": {
        "id": "oAkpBLI8SO0N",
        "colab_type": "code",
        "colab": {}
      },
      "source": [
        "import time\n",
        "print (time.time())\n",
        "print (time.localtime())\n",
        "print (time.strftime('%Y%m%d'))"
      ],
      "execution_count": 0,
      "outputs": []
    },
    {
      "cell_type": "code",
      "metadata": {
        "id": "S81fDEcKTUyn",
        "colab_type": "code",
        "colab": {}
      },
      "source": [
        "import datetime\n",
        "print (datetime.datetime.now())\n",
        "newtime = datetime.timedelta(minutes=10)\n",
        "print (datetime.datetime.now()+ newtime)\n",
        "\n",
        "one_day = datetime.datetime(2008,5,27)\n",
        "new_date = datetime.timedelta(days=10)\n",
        "print (one_day + new_date)"
      ],
      "execution_count": 0,
      "outputs": []
    },
    {
      "cell_type": "code",
      "metadata": {
        "id": "ArUyc8LfoPHL",
        "colab_type": "code",
        "colab": {}
      },
      "source": [
        "#文件夹操作库 os\n",
        "import os\n",
        "print( os.path.abspath('.'))\n",
        "print( os.path.exists('/Users'))\n",
        "print( os.path.isfile('/Users'))\n",
        "print( os.path.isdir('/Users'))\n",
        "\n",
        "from pathlib import Path\n",
        "p = Path('.')\n",
        "print(p.resolve())\n",
        "\n",
        "p.is_dir()\n",
        "\n",
        "q = Path('/tmp/a/b/c')\n",
        "\n",
        "Path.mkdir (q,parents=True)"
      ],
      "execution_count": 0,
      "outputs": []
    },
    {
      "cell_type": "code",
      "metadata": {
        "id": "CV0dycCFpXnf",
        "colab_type": "code",
        "colab": {}
      },
      "source": [
        "#NumPy数组与数据类型\n",
        "import numpy as np\n",
        "\n",
        "arr1 = np.array([2,3,4])\n",
        "print (arr1)\n",
        "print (arr1.dtype)\n",
        "\n",
        "arr2 = np.array([1.2,2.3,3.4])\n",
        "print (arr2)\n",
        "print (arr2.dtype)\n",
        "\n",
        "print (arr1+arr2)\n",
        "\n",
        "data = [[1,2,3],[4,5,6]]\n",
        "arr3 = np.array (data)\n",
        "print (arr3)\n",
        "print (arr3.dtype)"
      ],
      "execution_count": 0,
      "outputs": []
    },
    {
      "cell_type": "code",
      "metadata": {
        "id": "u_zQDDCNvDME",
        "colab_type": "code",
        "colab": {}
      },
      "source": [
        "import numpy as np\n",
        "print (np.zeros((3,5)))\n",
        "print (np.ones((4,6)))\n",
        "\n",
        "print (np.empty((2,3,2)))"
      ],
      "execution_count": 0,
      "outputs": []
    },
    {
      "cell_type": "code",
      "metadata": {
        "id": "RweJO4I43X8f",
        "colab_type": "code",
        "outputId": "19be91db-bf75-4280-d4fc-e402f580e7ae",
        "colab": {
          "base_uri": "https://localhost:8080/",
          "height": 71
        }
      },
      "source": [
        "import numpy as np\n",
        "arr4 = np.arange(10)\n",
        "\n",
        "arr4[5:8] = 10\n",
        "print(arr4)\n",
        "\n",
        "arr_slice = arr4[5:8].copy()\n",
        "arr_slice[:] = 15\n",
        "print(arr_slice)\n",
        "print(arr4)\n"
      ],
      "execution_count": 0,
      "outputs": [
        {
          "output_type": "stream",
          "text": [
            "[ 0  1  2  3  4 10 10 10  8  9]\n",
            "[15 15 15]\n",
            "[ 0  1  2  3  4 10 10 10  8  9]\n"
          ],
          "name": "stdout"
        }
      ]
    },
    {
      "cell_type": "code",
      "metadata": {
        "id": "lrGlq4uN6OoU",
        "colab_type": "code",
        "colab": {}
      },
      "source": [
        "from pandas import Series, DataFrame\n",
        "#import pandas as pd\n",
        "\n",
        "obj = Series ([4,5,6,-7])\n",
        "print (obj)\n",
        "\n",
        "print ( obj.index)\n",
        "print ( obj.values)\n",
        "\n",
        "'a' \n",
        "\n",
        "a -> djfkslaf\n",
        "b -> fjdksahfd\n",
        "c -> fdjlksfd"
      ],
      "execution_count": 0,
      "outputs": []
    },
    {
      "cell_type": "code",
      "metadata": {
        "id": "rBJRxyzCfYNA",
        "colab_type": "code",
        "colab": {}
      },
      "source": [
        "from pandas import Series, DataFrame\n",
        "#import pandas as pd\n",
        "\n",
        "obj = Series ([4,5,6,-7])\n",
        "obj2 = Series ([4,7,-5,3], index=['d','b','c','a'])\n",
        "print ( obj2)\n",
        "\n",
        "obj2['c']=6\n",
        "\n",
        "print ('f' in obj2)\n"
      ],
      "execution_count": 0,
      "outputs": []
    },
    {
      "cell_type": "code",
      "metadata": {
        "id": "--q8s78xgiPT",
        "colab_type": "code",
        "outputId": "9a0b7b09-66d8-4d41-c61c-7d9da1aa0ff5",
        "colab": {
          "base_uri": "https://localhost:8080/",
          "height": 197
        }
      },
      "source": [
        "from pandas import Series, DataFrame\n",
        "#import pandas as pd\n",
        "\n",
        "obj = Series ([4,5,6,-7])\n",
        "obj2 = Series ([4,7,-5,3], index=['d','b','c','a'])\n",
        "\n",
        "sdata ={'beijing':35000, 'shanghai': 71000, 'guangzhou': 16000, 'shenzhen': 5000}\n",
        "obj3 = Series (sdata)\n",
        "print ( obj3)\n",
        "\n",
        "obj3.index = ['bj','gz','sh','sz']\n",
        "print ( obj3)"
      ],
      "execution_count": 0,
      "outputs": [
        {
          "output_type": "stream",
          "text": [
            "beijing      35000\n",
            "shanghai     71000\n",
            "guangzhou    16000\n",
            "shenzhen      5000\n",
            "dtype: int64\n",
            "bj    35000\n",
            "gz    71000\n",
            "sh    16000\n",
            "sz     5000\n",
            "dtype: int64\n"
          ],
          "name": "stdout"
        }
      ]
    },
    {
      "cell_type": "code",
      "metadata": {
        "id": "bK5ixsL5ltzi",
        "colab_type": "code",
        "colab": {}
      },
      "source": [
        "#DataFrame 操作\n",
        "from pandas import Series, DataFrame\n",
        "#import pandas as pd\n",
        "\n",
        "obj = Series ([4,5,6,-7])\n",
        "obj2 = Series ([4,7,-5,3], index=['d','b','c','a'])\n",
        "\n",
        "sdata ={'beijing':35000, 'shanghai': 71000, 'guangzhou': 16000, 'shenzhen': 5000}\n",
        "obj3 = Series (sdata)\n",
        "\n",
        "data = {'city': ['shanghai','shanghai','shanghai','beijing','beijing'],\n",
        "        'year': [2016, 2017, 2018, 2017,2018],\n",
        "        'pop':  [1.5,1.7,3.6,2.4,2.9]}\n",
        "\n",
        "frame = DataFrame (data)\n",
        "frame2 = DataFrame(data, columns=['year','city','pop'])\n",
        "\n",
        "print ( frame)\n",
        "print ( frame2)"
      ],
      "execution_count": 0,
      "outputs": []
    },
    {
      "cell_type": "code",
      "metadata": {
        "id": "X8LbwOcoqQNs",
        "colab_type": "code",
        "colab": {}
      },
      "source": [
        "#DataFrame 操作\n",
        "from pandas import Series, DataFrame\n",
        "#import pandas as pd\n",
        "\n",
        "obj = Series ([4,5,6,-7])\n",
        "obj2 = Series ([4,7,-5,3], index=['d','b','c','a'])\n",
        "\n",
        "sdata ={'beijing':35000, 'shanghai': 71000, 'guangzhou': 16000, 'shenzhen': 5000}\n",
        "obj3 = Series (sdata)\n",
        "\n",
        "data = {'city': ['shanghai','shanghai','shanghai','beijing','beijing'],\n",
        "        'year': [2016, 2017, 2018, 2017,2018],\n",
        "        'pop':  [1.5,1.7,3.6,2.4,2.9]}\n",
        "\n",
        "frame = DataFrame (data)\n",
        "frame2 = DataFrame(data, columns=['year','city','pop'])\n",
        "\n",
        "frame2['new'] =100\n",
        "\n",
        "\n",
        "frame2['cap'] = frame2.city == 'beijing'\n",
        "\n",
        "\n",
        "pop = {'beijing': {2008:1.5, 2009:2.0},\n",
        "       'shanghai':{2008:2.0, 2009:3.6} }\n",
        "\n",
        "frame3 = DataFrame(pop)\n",
        "print(frame3.T)\n",
        "\n",
        "obj4 = Series([4.5,7.2,-5.3,3.6], index=['b','d','c','a'])\n",
        "obj5 = obj4.reindex(['a','b','c','d','e'], fill_value=0)\n",
        "\n",
        "print (obj5)\n",
        "\n",
        "obj6 = Series (['blue','purple','yellow'], index=[0,2,4])\n",
        "print (obj6.reindex(range(6),method='bfill'))\n",
        "\n"
      ],
      "execution_count": 0,
      "outputs": []
    },
    {
      "cell_type": "code",
      "metadata": {
        "id": "YBTx608StHWE",
        "colab_type": "code",
        "colab": {}
      },
      "source": [
        "from numpy import nan as NA\n",
        "\n",
        "data = Series ([1,NA,2])\n",
        "\n",
        "\n",
        "data2 = DataFrame([[1.,6.5,3],[1.,NA,NA],[NA,NA,NA]])\n",
        "\n",
        "print(data2.dropna())\n",
        "\n",
        "data2[4] = NA\n",
        "print(data2)\n",
        "print(data2.dropna(axis=1,how='all'))\n",
        "\n",
        "data2.fillna(0)\n",
        "print(data2.fillna(0,inplace=True))\n",
        "print(data2)"
      ],
      "execution_count": 0,
      "outputs": []
    },
    {
      "cell_type": "code",
      "metadata": {
        "id": "WeZ4ODhKq-4I",
        "colab_type": "code",
        "colab": {}
      },
      "source": [
        "from numpy import nan as NA\n",
        "\n",
        "data = Series ([1,NA,2])\n",
        "\n",
        "\n",
        "data2 = DataFrame([[1.,6.5,3],[1.,NA,NA],[NA,NA,NA]])\n",
        "\n",
        "import numpy as np\n",
        "data3 = Series (np.random.random (10),\n",
        "               index=[['a','a','a','b','b','b','c','c','d','d'],[1,2,3,1,2,3,1,2,2,3]])\n",
        "print (data3.unstack().stack()) \n",
        "print (data3['b':'c'])"
      ],
      "execution_count": 0,
      "outputs": []
    },
    {
      "cell_type": "code",
      "metadata": {
        "id": "GTxQnbNRlSgm",
        "colab_type": "code",
        "colab": {}
      },
      "source": [
        "# Matplotlib\n",
        "\n",
        "import matplotlib.pyplot as plt\n",
        "\n",
        "#绘制简单的曲线\n",
        "#plt.plot ([1,3,5],[4,8,10])\n",
        "#plt.show\n",
        "\n",
        "import numpy as np\n",
        "x = np.linspace(-np.pi,np.pi,100) #x轴的定义域为-3.14~3.14，中间间隔100个元素\n",
        "plt.plot(x,np.sin(x))\n",
        "plt.show"
      ],
      "execution_count": 0,
      "outputs": []
    },
    {
      "cell_type": "code",
      "metadata": {
        "id": "cmB32jMRvErO",
        "colab_type": "code",
        "colab": {}
      },
      "source": [
        "# Matplotlib\n",
        "import matplotlib.pyplot as plt\n",
        "\n",
        "import numpy as np\n",
        "x = np.linspace(-np.pi *2, np.pi * 2, 100) #定义域为：-2pi到2pi\n",
        "plt.figure(1, dpi=50)  #创建图表\n",
        "for i in range (1,5):  #画四条线\n",
        "       plt.plot(x, np.sin(x / i))\n",
        "plt.show()"
      ],
      "execution_count": 0,
      "outputs": []
    },
    {
      "cell_type": "code",
      "metadata": {
        "id": "o7P1A0mdw5Zp",
        "colab_type": "code",
        "colab": {}
      },
      "source": [
        "# Matplotlib直方图\n",
        "import matplotlib.pyplot as plt\n",
        "\n",
        "import numpy as np\n",
        "plt.figure(1, dpi=50)  #创建图表，dpi代表图片精细度，dpi越大文件越大\n",
        "data = [1,1,1,2,2,2,3,3,4,5,5,6,4]\n",
        "plt.hist (data) #只要传入数据，直方图就会统计数据出现的次数\n",
        "\n",
        "plt.show()\n"
      ],
      "execution_count": 0,
      "outputs": []
    },
    {
      "cell_type": "code",
      "metadata": {
        "id": "f7N0tfQayEfQ",
        "colab_type": "code",
        "colab": {}
      },
      "source": [
        "# Matplotlib散点图\n",
        "import matplotlib.pyplot as plt\n",
        "\n",
        "import numpy as np\n",
        "x = np.arange(1,10)\n",
        "y = x\n",
        "fig = plt.figure()\n",
        "plt.scatter (x,y,c = 'r', marker = 'o') \n",
        "#c = 'r'表示散点的颜色为红色，marker表示指定三点多形状为圆形\n",
        "plt.show"
      ],
      "execution_count": 0,
      "outputs": []
    },
    {
      "cell_type": "code",
      "metadata": {
        "id": "ODbzTFBdzTL4",
        "colab_type": "code",
        "colab": {}
      },
      "source": [
        "# Matplotlib散点图 (需要csv文件)\n",
        "import matplotlib.pyplot as plt\n",
        "import pandas as pd\n",
        "\n",
        "iris = pd.read.csv (\"./iris_training.csv\")\n",
        "print (iris.head())\n",
        "\n",
        "iris.plot(kind=\"scatter\", x=\"120\", y=\"4\")\n",
        "plt.show"
      ],
      "execution_count": 0,
      "outputs": []
    }
  ]
}